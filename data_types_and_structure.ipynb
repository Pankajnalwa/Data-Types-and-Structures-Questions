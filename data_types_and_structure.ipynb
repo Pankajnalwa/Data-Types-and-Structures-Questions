{
  "nbformat": 4,
  "nbformat_minor": 0,
  "metadata": {
    "colab": {
      "provenance": []
    },
    "kernelspec": {
      "name": "python3",
      "display_name": "Python 3"
    },
    "language_info": {
      "name": "python"
    }
  },
  "cells": [
    {
      "cell_type": "markdown",
      "source": [
        "#Data Types and Structures Questions"
      ],
      "metadata": {
        "id": "BHjQPNKzl8rU"
      }
    },
    {
      "cell_type": "markdown",
      "source": [
        "#1. What are data structures, and why are they important?\n",
        "\n",
        "Ans-Data structures are organized ways to store, manage, and organize data so that it can be used efficiently. They define the layout or format in which data is stored, accessed, and manipulated.\n",
        "#importance of data type-\n",
        "1. Efficiency\n",
        "Different structures are suited for different operations (search, insert, delete). Choosing the right one boosts performance.\n",
        "\n",
        "Example: Searching in a hash table (O(1) average) vs. list (O(n)).\n",
        "\n",
        "2. Organizing Data\n",
        "Helps manage large volumes of data in a structured and logical manner.\n",
        "\n",
        "Example: Trees organize hierarchical data like file systems.\n",
        "\n",
        "3. Memory Management\n",
        "Efficient data structures optimize memory usage and reduce overhead.\n",
        "\n",
        "Example: Linked lists use memory more dynamically than arrays.\n",
        "\n",
        "4. Code Reusability and Maintainability\n",
        "Well-structured data leads to clean, understandable, and reusable code.\n",
        "\n",
        "5. Solving Complex Problems\n",
        "Algorithms\n",
        "\n"
      ],
      "metadata": {
        "id": "bud38V27VSVq"
      }
    },
    {
      "cell_type": "markdown",
      "source": [
        "#2. Explain the difference between mutable and immutable data types with example?\n",
        "\n",
        "Ans- Mutable Data Types\n",
        "Definition: Mutable objects can be changed after they are created.\n",
        "\n",
        "You can add, remove, or change elements without creating a new object.\n",
        "\n",
        " Examples of Mutable Types:\n",
        "list,dictionary and set.\n",
        "Immutable Data Types\n",
        "Definition: Immutable objects cannot be changed after they are created.\n",
        "\n",
        "If you try to change them, a new object is created.\n",
        "\n",
        " Examples of Immutable Types:\n",
        "int,float,string.\n"
      ],
      "metadata": {
        "id": "Dr3LamzkWizm"
      }
    },
    {
      "cell_type": "markdown",
      "source": [
        "#3. What are the main differences between lists and tuples in Python?\n",
        "\n",
        "Ans-\n",
        "#Lists are:\n",
        "\n",
        "Mutable (you can change elements)\n",
        "\n",
        "Written with square brackets []\n",
        "\n",
        "Have many built-in methods\n",
        "\n",
        "Use more memory\n",
        "\n",
        "Slower than tuples\n",
        "\n",
        "Cannot be dictionary keys\n",
        "\n",
        "#Tuples are:\n",
        "\n",
        "Immutable (cannot be changed)\n",
        "\n",
        "Written with parentheses ()\n",
        "\n",
        "Have fewer methods\n",
        "\n",
        "More memory-efficient\n",
        "\n",
        "Faster than lists\n",
        "\n",
        "Can be used as dictionary keys (if fully immutable)\n",
        "\n",
        "\n"
      ],
      "metadata": {
        "id": "P2Gl6MU4X-TU"
      }
    },
    {
      "cell_type": "markdown",
      "source": [
        "#4. Describe how dictionaries store data?\n",
        "\n",
        "Ans-1.Key is Given\n",
        "You access or assign a value using a key:\n",
        "→ e.g., my_dict[\"age\"]\n",
        "\n",
        "2.Hash Function is Applied\n",
        "Python uses a hash function to convert the key into a unique integer called a hash value.\n",
        "\n",
        "3.Hash Maps to an Index\n",
        "That hash value is mapped to a specific index in an internal array (bucket).\n",
        "\n",
        "4.Value is Stored at That Index\n",
        "Python stores the key along with the value at that index, so it can later check for exact key matches (to handle hash collisions).\n"
      ],
      "metadata": {
        "id": "ODxM-zhQZoRJ"
      }
    },
    {
      "cell_type": "markdown",
      "source": [
        "#5.Why might you use a set instead of a list in Python?\n",
        "\n",
        "Ans-1. To Remove Duplicates Quickly\n",
        "2. Faster Membership Testing.\n",
        "3. Performing Set Operations.\n"
      ],
      "metadata": {
        "id": "Oa2xhhSkaOsb"
      }
    },
    {
      "cell_type": "markdown",
      "source": [
        "#6.What is a string in Python, and how is it different from a list?\n",
        "\n",
        "Ans-A string in Python is a sequence of characters enclosed in quotes.\n",
        "\n",
        " String Holds characters only.\n",
        "\n",
        "Written using quotes.\n",
        "\n",
        "Immutable (cannot change after creation).\n",
        "\n",
        "Example: \"Python\"\n",
        "\n",
        "Cannot change individual characters:\n",
        "\n"
      ],
      "metadata": {
        "id": "mNpmoGgva2Nf"
      }
    },
    {
      "cell_type": "markdown",
      "source": [
        "#7.How do tuples ensure data integrity in Python?\n",
        "\n",
        "Ans- Immutable:\n",
        "\n",
        "Once created, a tuple cannot be changed.\n",
        "\n",
        "No one can accidentally modify, delete, or reorder its values.\n",
        "\n",
        " Protects Fixed Data:\n",
        "\n",
        "Ideal for storing constant or reference values (like coordinates, config settings, etc.).\n",
        "\n",
        "Ensures the data stays exactly the same throughout the program.\n",
        "\n",
        " Safer to Use as Keys:\n",
        "\n",
        "Tuples can be used as dictionary keys (if they contain only immutable elements).\n",
        "\n",
        "This makes them useful in situations where uniqueness and consistency are required.\n",
        "\n",
        " Useful in Functions:\n",
        "\n",
        "You can safely return multiple values from functions using tuples, knowing they won't be changed accidentally.\n",
        "\n",
        "No Side Effects:\n",
        "\n",
        "Since they can’t be changed, you avoid bugs caused by unintended changes, especially in large programs or APIs.\n",
        "\n",
        "Example:\n",
        "python\n",
        "Copy\n",
        "Edit\n",
        "This protects the original data — perfect for situations where data must not change.\n",
        "\n",
        "Real-Life Analogy:\n",
        "A tuple is like a sealed envelope once sealed, you can only read the contents, not change them.\n"
      ],
      "metadata": {
        "id": "unZRd1bzdCOw"
      }
    },
    {
      "cell_type": "markdown",
      "source": [
        "#8.What is a hash table, and how does it relate to dictionaries in Python?\n",
        "\n",
        "Ans-A hash table is a data structure that stores data in key-value pairs.\n",
        "\n",
        "It uses a hash function to convert the key into a unique index (called a hash) in an internal array.\n",
        "\n",
        "This allows fast access, insertion, and deletion – usually in constant time O(1).\n",
        "Python’s dict (dictionary) is implemented using a hash table behind the scenes.\n",
        "\n",
        "\n",
        "Python is using a hash table to find the key \"name\" super fast!"
      ],
      "metadata": {
        "id": "PlhVYiU_dzGo"
      }
    },
    {
      "cell_type": "markdown",
      "source": [
        "#9. Can lists contain different data types in Python?\n",
        "\n",
        "Ans- Yes, lists in Python can contain different data types.\n"
      ],
      "metadata": {
        "id": "k48B_Rj2e_EP"
      }
    },
    {
      "cell_type": "markdown",
      "source": [
        "#10.Explain why strings are immutable in Python?\n",
        "\n",
        "Ans-Memory Efficiency\n",
        "immutability helps save memory and avoid bugs.\n",
        "2. Hashing Support\n",
        "Immutable strings ensure consistent hash values.\n",
        "3. Safety and Predictability\n",
        "4. Faster Performance\n"
      ],
      "metadata": {
        "id": "UAw8v281fla2"
      }
    },
    {
      "cell_type": "markdown",
      "source": [
        "#11.What advantages do dictionaries offer over lists for certain tasks?\n",
        "\n",
        "Ans- Faster Lookup by Key\n",
        "Dictionaries give O(1) time complexity for searching by key.\n",
        "\n",
        "Lists take O(n) time, as they search item by item.\n",
        "\n",
        "2. Named Data Access (Key-Value Pairs)\n",
        "In a dictionary, you know what each value represents by its key.\n",
        " 3. Better for Structured Data\n",
        "When we need to associate labels with data, dicts are ideal.\n",
        "4. Prevents Duplicate Keys\n",
        "Keys in a dictionary are always unique, so it avoids accidental data overwrite.\n",
        "\n",
        " 5. Perfect for Lookups, Caching, and Mappings\n",
        "Used in caching systems, frequency counters, indexing, etc.\n",
        "\n"
      ],
      "metadata": {
        "id": "4GTnwXDLgjJc"
      }
    },
    {
      "cell_type": "markdown",
      "source": [
        "#12. Describe a scenario where using a tuple would be preferable over a list?\n",
        "\n",
        "Ans- building a weather-tracking application. For each recorded weather reading, we want to store the latitude and longitude of the station — something that never changes once defined.\n",
        "\n",
        "In this case, using a tuple is better than a list because:\n",
        "\n",
        "The location coordinates are fixed and shouldn't be altered accidentally.\n",
        "\n",
        "A tuple helps ensure data integrity by being immutable (unchangeable).\n",
        "\n",
        "It also lets other developers know that this data is meant to stay constant."
      ],
      "metadata": {
        "id": "6o0gqZtviMF_"
      }
    },
    {
      "cell_type": "markdown",
      "source": [
        "#13. How do sets handle duplicate values in Python?\n",
        "\n",
        "Ans-In Python, sets automatically remove duplicate values. A set is an unordered collection of unique elements — which means it cannot contain the same value more than once.\n",
        "\n",
        "When you create a set and include duplicate items, Python keeps only one copy of each unique value."
      ],
      "metadata": {
        "id": "nensiU5ZjN8X"
      }
    },
    {
      "cell_type": "markdown",
      "source": [
        "#14.How does the “in” keyword work differently for lists and dictionaries?\n",
        "\n",
        "Ans-The in keyword is used to check membership in both lists and dictionaries — but it behaves differently for each.\n",
        "#For Lists:\n",
        "It checks whether a value exists in the list.\n",
        "\n",
        "It searches through all elements one by one.\n",
        "#For Dictionaries:\n",
        "It checks whether a key exists, not the value.\n",
        "\n",
        "It does not look inside values unless you specifically check .values() or .items().\n"
      ],
      "metadata": {
        "id": "C8gCIJTIjjvR"
      }
    },
    {
      "cell_type": "markdown",
      "source": [
        "#15.Can you modify the elements of a tuple? Explain why or why not.\n",
        "\n",
        "Ans-No, we cannot modify the elements of a tuple in Python.\n",
        "This is because tuples are immutable, meaning once they are created, their contents cannot be changed.\n",
        "\n",
        "However…If a tuple contains a mutable element, like a list inside it — that inner list can be changed, even though the tuple itself stays the same!"
      ],
      "metadata": {
        "id": "2LVTuZm5kVwo"
      }
    },
    {
      "cell_type": "markdown",
      "source": [
        "#16. What is a nested dictionary, and give an example of its use case?\n",
        "\n",
        "Ans-A nested dictionary is simply a dictionary inside another dictionary.\n",
        "It allows you to organize complex data in a structured way — like storing multiple layers of related information.\n",
        "storing details of multiple students — their name, age, and marks.\n",
        "Instead of creating separate dictionaries for each, you can use a nested dictionary to store everything in one place."
      ],
      "metadata": {
        "id": "HLlqt0Qplngx"
      }
    },
    {
      "cell_type": "markdown",
      "source": [
        "#17.Describe the time complexity of accessing elements in a dictionary?\n",
        "\n",
        "Ans-In Python, accessing elements in a dictionary using a key is very fast — the average time complexity is O(1), which means constant time.\n",
        "\n"
      ],
      "metadata": {
        "id": "XvtTNDcrmPhh"
      }
    },
    {
      "cell_type": "markdown",
      "source": [
        "#18. In what situations are lists preferred over dictionaries?\n",
        "\n",
        "Ans- Although dictionaries are super useful for key-based access, there are many cases where lists are actually the better choice. Here's when we'd go with a list:\n",
        "1. When Order Matters.\n",
        "2. When we Don’t Need Keys\n",
        "For Iterating in Order\n",
        "3. For Iterating in Order.\n",
        "4. When Storing Duplicates"
      ],
      "metadata": {
        "id": "HBlRYXTQm8uB"
      }
    },
    {
      "cell_type": "markdown",
      "source": [
        "#19. Why are dictionaries considered unordered, and how does that affect data retrieval?\n",
        "\n",
        "Ans-Dictionaries in Python used to be considered unordered because, they did not maintain the order in which items were inserted.\n",
        "Hash-Based Storage:\n",
        "No Insertion Order Guarantee (Before Python 3.7)\n",
        "\n"
      ],
      "metadata": {
        "id": "O4QkREZvo7mb"
      }
    },
    {
      "cell_type": "markdown",
      "source": [
        "#20. Explain the difference between a list and a dictionary in terms of data retrieval.\n",
        "\n",
        "Ans-\n",
        "#List(Data Retrieval)\n",
        "\n",
        "Data is accessed using integer indices (e.g., list[0]).\n",
        "\n",
        "Index starts from 0.\n",
        "\n",
        "Order of elements is fixed and important.\n",
        "\n",
        "Retrieval is position-based.\n",
        "\n",
        "Access time is O(1) (very fast).\n",
        "\n",
        "Suitable when data is ordered and sequential.\n",
        "#Dictionary (Data Retrieval)\n",
        "Data is accessed using unique keys (e.g., dict['key']).\n",
        "\n",
        "Keys can be strings, numbers, tuples, etc.\n",
        "\n",
        "Order of insertion is preserved (Python 3.7+).\n",
        "\n",
        "Retrieval is key-based, not position-based.\n",
        "\n",
        "Access time is also O(1) using hashing.\n",
        "\n",
        "Suitable when data needs to be labeled or identified."
      ],
      "metadata": {
        "id": "ihRCf4UCLx4h"
      }
    },
    {
      "cell_type": "markdown",
      "source": [
        "#Practical Questions"
      ],
      "metadata": {
        "id": "8JyNcSiKOdrF"
      }
    },
    {
      "cell_type": "markdown",
      "source": [
        "#1. Write a code to create a string with your name and print it?"
      ],
      "metadata": {
        "id": "5wIzRxKNOijG"
      }
    },
    {
      "cell_type": "code",
      "source": [
        "my_name=('pankaj')\n",
        "print(my_name)"
      ],
      "metadata": {
        "colab": {
          "base_uri": "https://localhost:8080/"
        },
        "id": "jBugD3azOqYY",
        "outputId": "fd7d1ede-782d-47d5-e469-e6c07e84cd78"
      },
      "execution_count": null,
      "outputs": [
        {
          "output_type": "stream",
          "name": "stdout",
          "text": [
            "pankaj\n"
          ]
        }
      ]
    },
    {
      "cell_type": "markdown",
      "source": [
        "#2. Write a code to find the length of the string \"Hello World\"."
      ],
      "metadata": {
        "id": "EPipfCVtPZMi"
      }
    },
    {
      "cell_type": "code",
      "source": [
        "\n",
        "\n",
        "text=('hello world')\n",
        "length=len(text)\n",
        "print(length)"
      ],
      "metadata": {
        "colab": {
          "base_uri": "https://localhost:8080/"
        },
        "id": "3_TLWmT4PhS0",
        "outputId": "47e26cba-01c9-4645-ea0a-26e4ec11bbf3"
      },
      "execution_count": null,
      "outputs": [
        {
          "output_type": "stream",
          "name": "stdout",
          "text": [
            "11\n"
          ]
        }
      ]
    },
    {
      "cell_type": "markdown",
      "source": [
        "#3.Write a code to slice the first 3 characters from the string \"Python Programming\"."
      ],
      "metadata": {
        "id": "GB70-M8QQ8es"
      }
    },
    {
      "cell_type": "code",
      "source": [
        "s1=('python programming')\n",
        "print(s1[0:3])"
      ],
      "metadata": {
        "colab": {
          "base_uri": "https://localhost:8080/"
        },
        "id": "WekjhG1_RGsB",
        "outputId": "258cb984-be6a-4cb6-c300-33767a8fa335"
      },
      "execution_count": null,
      "outputs": [
        {
          "output_type": "stream",
          "name": "stdout",
          "text": [
            "pyt\n"
          ]
        }
      ]
    },
    {
      "cell_type": "markdown",
      "source": [
        "#4. Write a code to convert the string \"hello\" to uppercase?"
      ],
      "metadata": {
        "id": "uqYpFRkXReP3"
      }
    },
    {
      "cell_type": "code",
      "source": [
        "s1=('hello')\n",
        "print(s1.upper())"
      ],
      "metadata": {
        "colab": {
          "base_uri": "https://localhost:8080/"
        },
        "id": "P4Sh3ALARjA8",
        "outputId": "4f745773-7174-4673-e5de-0a266ac855f7"
      },
      "execution_count": null,
      "outputs": [
        {
          "output_type": "stream",
          "name": "stdout",
          "text": [
            "HELLO\n"
          ]
        }
      ]
    },
    {
      "cell_type": "markdown",
      "source": [
        "#5. Write a code to replace the word \"apple\" with \"orange\" in the string \"I like apple\".\n",
        "\n"
      ],
      "metadata": {
        "id": "U2Vcy1q0RyB4"
      }
    },
    {
      "cell_type": "code",
      "source": [
        "s1 = 'i like apple'\n",
        "print(s1.replace('apple','orange'))"
      ],
      "metadata": {
        "colab": {
          "base_uri": "https://localhost:8080/"
        },
        "id": "nc7KCUviSAqj",
        "outputId": "ca535b25-5e39-4bd5-872d-f1756d9a6f50"
      },
      "execution_count": null,
      "outputs": [
        {
          "output_type": "stream",
          "name": "stdout",
          "text": [
            "i like orange\n"
          ]
        }
      ]
    },
    {
      "cell_type": "markdown",
      "source": [
        "#6. Write a code to create a list with numbers 1 to 5 and print it?"
      ],
      "metadata": {
        "id": "TkpZ-yG8S4HT"
      }
    },
    {
      "cell_type": "code",
      "source": [
        "list=[1,2,3,4,5]\n",
        "print(list)"
      ],
      "metadata": {
        "colab": {
          "base_uri": "https://localhost:8080/"
        },
        "id": "EZtn3aEETAIg",
        "outputId": "b21a3d59-464a-4284-8137-a5e24bc67d83"
      },
      "execution_count": null,
      "outputs": [
        {
          "output_type": "stream",
          "name": "stdout",
          "text": [
            "[1, 2, 3, 4, 5]\n"
          ]
        }
      ]
    },
    {
      "cell_type": "markdown",
      "source": [
        "#7. Write a code to append the number 10 to the list [1, 2, 3, 4]."
      ],
      "metadata": {
        "id": "2IA0GSysTgIL"
      }
    },
    {
      "cell_type": "code",
      "source": [
        "list=[1,2,3,4]\n",
        "list.append(10)\n",
        "print(list)"
      ],
      "metadata": {
        "colab": {
          "base_uri": "https://localhost:8080/"
        },
        "id": "PuCQY8SYTogx",
        "outputId": "a6dfed9a-0964-444b-b505-4eadbd52548f"
      },
      "execution_count": null,
      "outputs": [
        {
          "output_type": "stream",
          "name": "stdout",
          "text": [
            "[1, 2, 3, 4, 10]\n"
          ]
        }
      ]
    },
    {
      "cell_type": "markdown",
      "source": [
        "#8.Write a code to remove the number 3 from the list [1, 2, 3, 4, 5]."
      ],
      "metadata": {
        "id": "rrG3glGkT0ZT"
      }
    },
    {
      "cell_type": "code",
      "source": [
        "list = [1,2,3,4,5]\n",
        "list.remove(3)\n",
        "print(list)"
      ],
      "metadata": {
        "colab": {
          "base_uri": "https://localhost:8080/"
        },
        "id": "P51fjUZGT77I",
        "outputId": "ae6eaf5c-60ee-4924-dd7b-350269396925"
      },
      "execution_count": null,
      "outputs": [
        {
          "output_type": "stream",
          "name": "stdout",
          "text": [
            "[1, 2, 4, 5]\n"
          ]
        }
      ]
    },
    {
      "cell_type": "markdown",
      "source": [
        "#9. Write a code to access the second element in the list ['a', 'b', 'c', 'd']."
      ],
      "metadata": {
        "id": "ePfKZERJUZYY"
      }
    },
    {
      "cell_type": "code",
      "source": [
        "list=['a','b','c','d']\n",
        "second_element=list[1]\n",
        "print(second_element)"
      ],
      "metadata": {
        "colab": {
          "base_uri": "https://localhost:8080/"
        },
        "id": "Be9XULIIUitT",
        "outputId": "d0b80021-8086-49a6-b36b-22e3df97fccb"
      },
      "execution_count": null,
      "outputs": [
        {
          "output_type": "stream",
          "name": "stdout",
          "text": [
            "b\n"
          ]
        }
      ]
    },
    {
      "cell_type": "markdown",
      "source": [
        "#10. Write a code to reverse the list [10, 20, 30, 40, 50]"
      ],
      "metadata": {
        "id": "dir0P2o1VaCQ"
      }
    },
    {
      "cell_type": "code",
      "source": [
        "list=[10,20,30,40,50]\n",
        "list.reverse()\n",
        "print(list)"
      ],
      "metadata": {
        "colab": {
          "base_uri": "https://localhost:8080/"
        },
        "id": "yW97anChVZRU",
        "outputId": "d130d70e-baae-4171-efea-77d0e6e63443"
      },
      "execution_count": null,
      "outputs": [
        {
          "output_type": "stream",
          "name": "stdout",
          "text": [
            "[50, 40, 30, 20, 10]\n"
          ]
        }
      ]
    },
    {
      "cell_type": "markdown",
      "source": [
        "#11. Write a code to create a tuple with the elements 100, 200, 300 and print it."
      ],
      "metadata": {
        "id": "ktLB0JswWZQD"
      }
    },
    {
      "cell_type": "code",
      "source": [
        "my_tuple=(100,200,300)\n",
        "print(my_tuple)"
      ],
      "metadata": {
        "colab": {
          "base_uri": "https://localhost:8080/"
        },
        "id": "6Uud7kqdWlDQ",
        "outputId": "b20f5f73-500e-4c48-bcaa-f8dc800999f0"
      },
      "execution_count": null,
      "outputs": [
        {
          "output_type": "stream",
          "name": "stdout",
          "text": [
            "(100, 200, 300)\n"
          ]
        }
      ]
    },
    {
      "cell_type": "markdown",
      "source": [
        "#12. Write a code to access the second-to-last element of the tuple ('red', 'green', 'blue', 'yellow')."
      ],
      "metadata": {
        "id": "k1eXUoJlXEw8"
      }
    },
    {
      "cell_type": "code",
      "source": [
        "my_tuple=('red','green','blue','yellow')\n",
        "print(my_tuple[-2])\n"
      ],
      "metadata": {
        "colab": {
          "base_uri": "https://localhost:8080/"
        },
        "id": "TjJnEoKbXM0L",
        "outputId": "1c4d758b-2a4c-46db-ba65-92b4d60fa377"
      },
      "execution_count": null,
      "outputs": [
        {
          "output_type": "stream",
          "name": "stdout",
          "text": [
            "blue\n"
          ]
        }
      ]
    },
    {
      "cell_type": "markdown",
      "source": [
        "#13.Write a code to find the minimum number in the tuple (10, 20, 5, 15)."
      ],
      "metadata": {
        "id": "6KLucU1gXoWJ"
      }
    },
    {
      "cell_type": "code",
      "source": [
        "number=(10,20,5,15)\n",
        "min_number=min(number)\n",
        "print(min_number)"
      ],
      "metadata": {
        "colab": {
          "base_uri": "https://localhost:8080/"
        },
        "id": "oobnJsSdXwxR",
        "outputId": "080b5330-f321-4d18-e20f-a5663cb88848"
      },
      "execution_count": null,
      "outputs": [
        {
          "output_type": "stream",
          "name": "stdout",
          "text": [
            "5\n"
          ]
        }
      ]
    },
    {
      "cell_type": "markdown",
      "source": [
        "#14. Write a code to find the index of the element \"cat\" in the tuple ('dog', 'cat', 'rabbit')."
      ],
      "metadata": {
        "id": "SKk7HrzfY-0l"
      }
    },
    {
      "cell_type": "code",
      "source": [
        "my_tuple=('dog','cat','rabbit')\n",
        "index=my_tuple.index('cat')\n",
        "print(index)"
      ],
      "metadata": {
        "colab": {
          "base_uri": "https://localhost:8080/"
        },
        "id": "1fbaWZ1CZGWR",
        "outputId": "dd49da9f-2cc4-4517-c1d3-832318f6fa58"
      },
      "execution_count": null,
      "outputs": [
        {
          "output_type": "stream",
          "name": "stdout",
          "text": [
            "1\n"
          ]
        }
      ]
    },
    {
      "cell_type": "markdown",
      "source": [
        "#15. Write a code to create a tuple containing three different fruits and check if \"kiwi\" is in it."
      ],
      "metadata": {
        "id": "9scxE3nqZTS3"
      }
    },
    {
      "cell_type": "code",
      "source": [
        "my_tuple=('apple','banana','kiwi')\n",
        "print('kiwi' in my_tuple)"
      ],
      "metadata": {
        "colab": {
          "base_uri": "https://localhost:8080/"
        },
        "id": "n-9wjhxZZa7v",
        "outputId": "0e5025f4-997c-4a1a-eeea-3c60dd5de7fa"
      },
      "execution_count": null,
      "outputs": [
        {
          "output_type": "stream",
          "name": "stdout",
          "text": [
            "True\n"
          ]
        }
      ]
    },
    {
      "cell_type": "markdown",
      "source": [
        "#16. Write a code to create a set with the elements 'a', 'b', 'c' and print it."
      ],
      "metadata": {
        "id": "QID49MBzZpRi"
      }
    },
    {
      "cell_type": "code",
      "source": [
        "s1 = {'a','b','c'}\n",
        "print(s1)"
      ],
      "metadata": {
        "colab": {
          "base_uri": "https://localhost:8080/"
        },
        "id": "T7ptFh-3Zu_L",
        "outputId": "21efab65-734e-4172-9985-21447bb6de53"
      },
      "execution_count": null,
      "outputs": [
        {
          "output_type": "stream",
          "name": "stdout",
          "text": [
            "{'b', 'c', 'a'}\n"
          ]
        }
      ]
    },
    {
      "cell_type": "markdown",
      "source": [
        "#17. Write a code to clear all elements from the set {1, 2, 3, 4, 5}."
      ],
      "metadata": {
        "id": "plNY6TzvaFdF"
      }
    },
    {
      "cell_type": "code",
      "source": [
        "s1={1,2,3,4,5}\n",
        "s1.clear()\n",
        "print(s1)"
      ],
      "metadata": {
        "colab": {
          "base_uri": "https://localhost:8080/"
        },
        "id": "Cq2p3Ks7aLIG",
        "outputId": "71185b69-17c2-4d29-bae3-5523ca948152"
      },
      "execution_count": null,
      "outputs": [
        {
          "output_type": "stream",
          "name": "stdout",
          "text": [
            "set()\n"
          ]
        }
      ]
    },
    {
      "cell_type": "markdown",
      "source": [
        "#18. Write a code to remove the element 4 from the set {1, 2, 3, 4}."
      ],
      "metadata": {
        "id": "j_IQyBtyacXT"
      }
    },
    {
      "cell_type": "code",
      "source": [
        "s1={1,2,3,4}\n",
        "s1.remove(4)\n",
        "print(s1)"
      ],
      "metadata": {
        "colab": {
          "base_uri": "https://localhost:8080/"
        },
        "id": "pOddSkdBaiZH",
        "outputId": "4912c6bb-cff2-4593-afac-5807ef17a429"
      },
      "execution_count": null,
      "outputs": [
        {
          "output_type": "stream",
          "name": "stdout",
          "text": [
            "{1, 2, 3}\n"
          ]
        }
      ]
    },
    {
      "cell_type": "markdown",
      "source": [
        "#19. Write a code to find the union of two sets {1, 2, 3} and {3, 4, 5}."
      ],
      "metadata": {
        "id": "W4EnIMtQacSf"
      }
    },
    {
      "cell_type": "code",
      "source": [
        "s1={1,2,3}\n",
        "s2={4,5,6}\n",
        "print(s1 | s2)"
      ],
      "metadata": {
        "colab": {
          "base_uri": "https://localhost:8080/"
        },
        "id": "icIdsBlPatji",
        "outputId": "07725d24-4bc0-4cd2-d049-a463b9948d2e"
      },
      "execution_count": null,
      "outputs": [
        {
          "output_type": "stream",
          "name": "stdout",
          "text": [
            "{1, 2, 3, 4, 5, 6}\n"
          ]
        }
      ]
    },
    {
      "cell_type": "code",
      "source": [
        "s1={1,2,3}\n",
        "s2={4,5,6}\n",
        "union_set = s1.union(s2)\n",
        "print(union_set)"
      ],
      "metadata": {
        "colab": {
          "base_uri": "https://localhost:8080/"
        },
        "id": "gtk8GTsDbZYX",
        "outputId": "0739de39-80a8-4257-ccbf-a54d9699593e"
      },
      "execution_count": null,
      "outputs": [
        {
          "output_type": "stream",
          "name": "stdout",
          "text": [
            "{1, 2, 3, 4, 5, 6}\n"
          ]
        }
      ]
    },
    {
      "cell_type": "markdown",
      "source": [
        "#20. Write a code to find the intersection of two sets {1, 2, 3} and {2, 3, 4}"
      ],
      "metadata": {
        "id": "zijVXwF0btyQ"
      }
    },
    {
      "cell_type": "code",
      "source": [
        "s1={1,2,3}\n",
        "s2={2,3,4}\n",
        "intersection_set=s1.intersection(s2)\n",
        "print(intersection_set)"
      ],
      "metadata": {
        "colab": {
          "base_uri": "https://localhost:8080/"
        },
        "id": "rMuCb7VLb65N",
        "outputId": "4f80a99e-0e03-428f-b5d7-f0101a26326c"
      },
      "execution_count": null,
      "outputs": [
        {
          "output_type": "stream",
          "name": "stdout",
          "text": [
            "{2, 3}\n"
          ]
        }
      ]
    },
    {
      "cell_type": "markdown",
      "source": [
        "#21. Write a code to create a dictionary with the keys \"name\", \"age\", and \"city\", and print it."
      ],
      "metadata": {
        "id": "c3OWiwLfcrkZ"
      }
    },
    {
      "cell_type": "code",
      "source": [
        "dict={\"name\":\"pankaj\",\"age\":20,\"city\":\"mumbai\"}\n",
        "print(dict)"
      ],
      "metadata": {
        "colab": {
          "base_uri": "https://localhost:8080/"
        },
        "id": "TiK3pBGsc0bm",
        "outputId": "a56367ed-bac1-4e01-81e9-a2d50d48795b"
      },
      "execution_count": null,
      "outputs": [
        {
          "output_type": "stream",
          "name": "stdout",
          "text": [
            "{'name': 'pankaj', 'age': 20, 'city': 'mumbai'}\n"
          ]
        }
      ]
    },
    {
      "cell_type": "markdown",
      "source": [
        "#22.Write a code to add a new key-value pair \"country\": \"USA\" to the dictionary {'name': 'John', 'age': 25}."
      ],
      "metadata": {
        "id": "ELFdVRqudn2v"
      }
    },
    {
      "cell_type": "code",
      "source": [
        "dict={'name': 'John', 'age': 25}\n",
        "dict.update({'country': 'USA'})\n",
        "print(dict)"
      ],
      "metadata": {
        "colab": {
          "base_uri": "https://localhost:8080/"
        },
        "id": "67vKC8uIdxT1",
        "outputId": "d80fa301-6068-4511-da91-be49697a796c"
      },
      "execution_count": null,
      "outputs": [
        {
          "output_type": "stream",
          "name": "stdout",
          "text": [
            "{'name': 'John', 'age': 25, 'country': 'USA'}\n"
          ]
        }
      ]
    },
    {
      "cell_type": "markdown",
      "source": [
        "#23. Write a code to access the value associated with the key \"name\" in the dictionary {'name': 'Alice', 'age':30}."
      ],
      "metadata": {
        "id": "JCg4EVudeRhm"
      }
    },
    {
      "cell_type": "code",
      "source": [
        "dict={'name': 'Alice', 'age':30}\n",
        "name_value=dict['name']\n",
        "print(name_value)"
      ],
      "metadata": {
        "colab": {
          "base_uri": "https://localhost:8080/"
        },
        "id": "fQf9wPrNedVF",
        "outputId": "eb46d4bd-70c5-48a3-d3ad-e6c5a096ab71"
      },
      "execution_count": null,
      "outputs": [
        {
          "output_type": "stream",
          "name": "stdout",
          "text": [
            "Alice\n"
          ]
        }
      ]
    },
    {
      "cell_type": "markdown",
      "source": [
        "#24. Write a code to remove the key \"age\" from the dictionary {'name': 'Bob', 'age': 22, 'city': 'New York'}."
      ],
      "metadata": {
        "id": "JXKAvQl_fCtg"
      }
    },
    {
      "cell_type": "code",
      "source": [
        "dict={'name': 'Bob', 'age': 22, 'city': 'New York'}\n",
        "del dict['age']\n",
        "print(dict)"
      ],
      "metadata": {
        "colab": {
          "base_uri": "https://localhost:8080/"
        },
        "id": "7AS3C4nlfG7s",
        "outputId": "60ac0567-f065-42e7-aa1b-a816880ce696"
      },
      "execution_count": null,
      "outputs": [
        {
          "output_type": "stream",
          "name": "stdout",
          "text": [
            "{'name': 'Bob', 'city': 'New York'}\n"
          ]
        }
      ]
    },
    {
      "cell_type": "markdown",
      "source": [
        "#25. Write a code to check if the key \"city\" exists in the dictionary {'name': 'Alice', 'city': 'Paris'}."
      ],
      "metadata": {
        "id": "iCpjhDJtfY2R"
      }
    },
    {
      "cell_type": "code",
      "source": [
        "dict={'name': 'Alice', 'city': 'Paris'}\n",
        "print('city' in dict)"
      ],
      "metadata": {
        "colab": {
          "base_uri": "https://localhost:8080/"
        },
        "id": "E9qJO12ofe5x",
        "outputId": "9380927b-1598-4829-c576-3136c750a53a"
      },
      "execution_count": null,
      "outputs": [
        {
          "output_type": "stream",
          "name": "stdout",
          "text": [
            "True\n"
          ]
        }
      ]
    },
    {
      "cell_type": "markdown",
      "source": [
        "#26. Write a code to create a list, a tuple, and a dictionary, and print them all."
      ],
      "metadata": {
        "id": "u68GxrLAflqG"
      }
    },
    {
      "cell_type": "code",
      "source": [
        "list=[1,2,3,4,5]\n",
        "my_tuple=(1,2,3,4,5)\n",
        "dict={'name':'pankaj','age':20}\n",
        "print(list)\n",
        "print(my_tuple)\n",
        "print(dict)"
      ],
      "metadata": {
        "colab": {
          "base_uri": "https://localhost:8080/"
        },
        "id": "ucsFGrIRfsY9",
        "outputId": "03ef06b3-fd11-4d23-b64c-c788650fa0a2"
      },
      "execution_count": null,
      "outputs": [
        {
          "output_type": "stream",
          "name": "stdout",
          "text": [
            "[1, 2, 3, 4, 5]\n",
            "(1, 2, 3, 4, 5)\n",
            "{'name': 'pankaj', 'age': 20}\n"
          ]
        }
      ]
    },
    {
      "cell_type": "markdown",
      "source": [
        "#27. Write a code to create a list of 5 random numbers between 1 and 100, sort it in ascending order, and print the result.(replaced)."
      ],
      "metadata": {
        "id": "TqbMhimZgxmq"
      }
    },
    {
      "cell_type": "code",
      "source": [
        "list=[50,20,30,10,40]\n",
        "list.sort()\n",
        "print(list)"
      ],
      "metadata": {
        "colab": {
          "base_uri": "https://localhost:8080/"
        },
        "id": "fpIHd368hBIi",
        "outputId": "3fdefdeb-2cfa-43e9-c88b-ee98258e6d2b"
      },
      "execution_count": null,
      "outputs": [
        {
          "output_type": "stream",
          "name": "stdout",
          "text": [
            "[10, 20, 30, 40, 50]\n"
          ]
        }
      ]
    },
    {
      "cell_type": "markdown",
      "source": [
        "#28. Write a code to create a list with strings and print the element at the third index."
      ],
      "metadata": {
        "id": "qTymbHnfhodu"
      }
    },
    {
      "cell_type": "code",
      "source": [
        "list=['apple','orange','banana','kiwi']\n",
        "print(list[2])"
      ],
      "metadata": {
        "colab": {
          "base_uri": "https://localhost:8080/"
        },
        "id": "Zl8VoTESiEc6",
        "outputId": "fb76cef3-08a6-4836-97e2-72baa327983f"
      },
      "execution_count": null,
      "outputs": [
        {
          "output_type": "stream",
          "name": "stdout",
          "text": [
            "banana\n"
          ]
        }
      ]
    },
    {
      "cell_type": "code",
      "source": [
        "list=['apple','orange','banana','kiwi']\n",
        "third_element=list[3]\n",
        "print(third_element)"
      ],
      "metadata": {
        "colab": {
          "base_uri": "https://localhost:8080/"
        },
        "id": "UL1QwF_ejIH3",
        "outputId": "60e06a77-0092-4b4f-c49a-299437b79ae4"
      },
      "execution_count": null,
      "outputs": [
        {
          "output_type": "stream",
          "name": "stdout",
          "text": [
            "kiwi\n"
          ]
        }
      ]
    },
    {
      "cell_type": "code",
      "source": [
        "list=['apple','orange','banana','kiwi']\n",
        "print('element at third index',list[3] )"
      ],
      "metadata": {
        "colab": {
          "base_uri": "https://localhost:8080/"
        },
        "id": "3g-k62DYjtt3",
        "outputId": "c0f0c17d-9584-4d88-ddeb-736472c3e2ab"
      },
      "execution_count": null,
      "outputs": [
        {
          "output_type": "stream",
          "name": "stdout",
          "text": [
            "element at third index kiwi\n"
          ]
        }
      ]
    },
    {
      "cell_type": "markdown",
      "source": [
        "#29.Write a code to combine two dictionaries into one and print the result."
      ],
      "metadata": {
        "id": "E04UgxoakWqH"
      }
    },
    {
      "cell_type": "code",
      "source": [
        "dict1={'name':'pankaj','age':20}\n",
        "dict2={'city':'mumbai','country':'india'}\n",
        "combined_dict={**dict1,**dict2}\n",
        "print(combined_dict)\n"
      ],
      "metadata": {
        "colab": {
          "base_uri": "https://localhost:8080/"
        },
        "id": "r9Wv-NHskcMj",
        "outputId": "7e694cca-60f5-4eb2-8ba8-3568462f5f8b"
      },
      "execution_count": null,
      "outputs": [
        {
          "output_type": "stream",
          "name": "stdout",
          "text": [
            "{'name': 'pankaj', 'age': 20, 'city': 'mumbai', 'country': 'india'}\n"
          ]
        }
      ]
    },
    {
      "cell_type": "code",
      "source": [
        "dict1={'name':'pankaj','age':20}\n",
        "dict2={'city':'mumbai','country':'india'}\n",
        "combined_dict=dict1 | dict2\n",
        "print(combined_dict)\n"
      ],
      "metadata": {
        "colab": {
          "base_uri": "https://localhost:8080/"
        },
        "id": "QS4QZbIdlEXn",
        "outputId": "61afb53d-5576-49e6-bf89-b0b83785752d"
      },
      "execution_count": null,
      "outputs": [
        {
          "output_type": "stream",
          "name": "stdout",
          "text": [
            "{'name': 'pankaj', 'age': 20, 'city': 'mumbai', 'country': 'india'}\n"
          ]
        }
      ]
    },
    {
      "cell_type": "markdown",
      "source": [
        "#30. Write a code to convert a list of strings into a set."
      ],
      "metadata": {
        "id": "PtkQyzrWlUNh"
      }
    },
    {
      "cell_type": "code",
      "source": [
        "list=['apple','orange','banana','kiwi']\n",
        "my_set=set(list)\n",
        "print(my_set)"
      ],
      "metadata": {
        "colab": {
          "base_uri": "https://localhost:8080/"
        },
        "id": "DkrE4j7_ldpN",
        "outputId": "e3f966f7-54cc-4b7f-9ac1-7ffbd02cbaf4"
      },
      "execution_count": null,
      "outputs": [
        {
          "output_type": "stream",
          "name": "stdout",
          "text": [
            "{'apple', 'banana', 'orange', 'kiwi'}\n"
          ]
        }
      ]
    }
  ]
}